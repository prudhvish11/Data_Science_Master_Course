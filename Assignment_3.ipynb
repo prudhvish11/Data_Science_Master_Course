{
 "cells": [
  {
   "cell_type": "markdown",
   "id": "5d95ceb6-5dda-4999-9018-3a894620da0a",
   "metadata": {},
   "source": [
    "Q1"
   ]
  },
  {
   "cell_type": "code",
   "execution_count": 1,
   "id": "3ff9f125-3360-473f-8f52-d0da54121c7f",
   "metadata": {},
   "outputs": [
    {
     "name": "stdout",
     "output_type": "stream",
     "text": [
      "[1, 3, 5, 7, 9, 11, 13, 15, 17, 19, 21, 23, 25]\n"
     ]
    }
   ],
   "source": [
    "'''\n",
    "The keyword used to create a function in Python is def. \n",
    "'''\n",
    "\n",
    "def odd_numbers(n):\n",
    "    odd_list = []\n",
    "    for i in range(n+1):\n",
    "        if i%2!=0:\n",
    "            odd_list.append(i)\n",
    "    return odd_list\n",
    "\n",
    "result = odd_numbers(25)\n",
    "print(result)\n"
   ]
  },
  {
   "cell_type": "markdown",
   "id": "87d54fa6-1119-4282-8d86-55c4c1f244bb",
   "metadata": {},
   "source": [
    "Q2"
   ]
  },
  {
   "cell_type": "code",
   "execution_count": 2,
   "id": "42049006-076e-4067-9c54-a0587f8af105",
   "metadata": {},
   "outputs": [
    {
     "data": {
      "text/plain": [
       "'\\n*args and **kwargs are used to pass a N number of arguments to functions. \\n*args returns a tuple\\n**kwargs returns dictionary\\n'"
      ]
     },
     "execution_count": 2,
     "metadata": {},
     "output_type": "execute_result"
    }
   ],
   "source": [
    "'''\n",
    "*args and **kwargs are used to pass a N number of arguments to functions. \n",
    "*args returns a tuple\n",
    "**kwargs returns dictionary\n",
    "'''"
   ]
  },
  {
   "cell_type": "code",
   "execution_count": 3,
   "id": "605a984d-8435-469f-a759-d3bbbf9187ff",
   "metadata": {},
   "outputs": [
    {
     "data": {
      "text/plain": [
       "[[1, 2, 3], [4, 5, 6]]"
      ]
     },
     "execution_count": 3,
     "metadata": {},
     "output_type": "execute_result"
    }
   ],
   "source": [
    "def di(**kwargs):\n",
    "    n=[]\n",
    "    for i in kwargs.keys():\n",
    "        if type(kwargs[i])==list:\n",
    "            n.append(kwargs[i])\n",
    "    return n   \n",
    "di(a='4',b=2,c=[1,2,3],d=[4,5,6])"
   ]
  },
  {
   "cell_type": "code",
   "execution_count": 4,
   "id": "7e8c2df3-2b0c-4a73-bce2-eca3e1babc9a",
   "metadata": {},
   "outputs": [
    {
     "name": "stdout",
     "output_type": "stream",
     "text": [
      "15\n"
     ]
    }
   ],
   "source": [
    "def sum_numbers(*args):\n",
    "    result = 0\n",
    "    for num in args:\n",
    "        result += num\n",
    "    return result\n",
    "\n",
    "print(sum_numbers(1, 2, 3, 4, 5))"
   ]
  },
  {
   "cell_type": "markdown",
   "id": "5809a90b-43ff-47c6-b036-094df5a3e4b6",
   "metadata": {},
   "source": [
    "Q3"
   ]
  },
  {
   "cell_type": "code",
   "execution_count": 5,
   "id": "844085c3-d8c3-473e-a49d-c37a11b85d77",
   "metadata": {},
   "outputs": [
    {
     "data": {
      "text/plain": [
       "'\\n an iterator is an object that represents a stream of data that can be iterated (looped) over one element at a time.\\n \\n Methods \\n (__iter__()):  It initializes the iterator and returns itself.\\n\\n (__next__()): This method is used to retrieve the next element from the iterator.\\n               It raises a StopIteration exception when there are no more items to be iterated.\\n               \\n'"
      ]
     },
     "execution_count": 5,
     "metadata": {},
     "output_type": "execute_result"
    }
   ],
   "source": [
    "'''\n",
    " an iterator is an object that represents a stream of data that can be iterated (looped) over one element at a time.\n",
    " \n",
    " Methods \n",
    " (__iter__()):  It initializes the iterator and returns itself.\n",
    "\n",
    " (__next__()): This method is used to retrieve the next element from the iterator.\n",
    "               It raises a StopIteration exception when there are no more items to be iterated.\n",
    "               \n",
    "'''               "
   ]
  },
  {
   "cell_type": "code",
   "execution_count": 6,
   "id": "b96a5474-5bd6-413d-bb3e-d00686e65a06",
   "metadata": {},
   "outputs": [
    {
     "name": "stdout",
     "output_type": "stream",
     "text": [
      "2\n",
      "4\n",
      "6\n",
      "8\n",
      "10\n"
     ]
    }
   ],
   "source": [
    "my_list = [2, 4, 6, 8, 10, 12, 14, 16, 18, 20]\n",
    "\n",
    "my_iterator = iter(my_list)\n",
    "\n",
    "for _ in range(5):\n",
    "    print(next(my_iterator))\n"
   ]
  },
  {
   "cell_type": "markdown",
   "id": "88bbf787-e792-4f12-a226-6da226433203",
   "metadata": {},
   "source": [
    "Q4"
   ]
  },
  {
   "cell_type": "code",
   "execution_count": 7,
   "id": "1753c745-ea25-4d09-80ed-7dcb4720e7e1",
   "metadata": {},
   "outputs": [
    {
     "data": {
      "text/plain": [
       "'\\nA generator function in Python is a special type of function that returns an iterator. \\nIt uses the yield keyword to yield values one at a time, allowing the function to retain its state between calls. \\n'"
      ]
     },
     "execution_count": 7,
     "metadata": {},
     "output_type": "execute_result"
    }
   ],
   "source": [
    "'''\n",
    "A generator function in Python is a special type of function that returns an iterator. \n",
    "It uses the yield keyword to yield values one at a time, allowing the function to retain its state between calls. \n",
    "'''"
   ]
  },
  {
   "cell_type": "code",
   "execution_count": 8,
   "id": "cd451142-4738-4f80-be36-f6c822cf4a0b",
   "metadata": {},
   "outputs": [
    {
     "data": {
      "text/plain": [
       "<generator object fib at 0x7f25cea39af0>"
      ]
     },
     "execution_count": 8,
     "metadata": {},
     "output_type": "execute_result"
    }
   ],
   "source": [
    "def fib(n):\n",
    "    a,b=0,1\n",
    "    for i in range(n):\n",
    "        yield a\n",
    "        a,b=b,a+b\n",
    "fib(10)        "
   ]
  },
  {
   "cell_type": "code",
   "execution_count": 9,
   "id": "22af9e1e-25f1-45a7-8076-31e86f07b2d4",
   "metadata": {},
   "outputs": [
    {
     "name": "stdout",
     "output_type": "stream",
     "text": [
      "0\n",
      "1\n",
      "1\n",
      "2\n",
      "3\n",
      "5\n",
      "8\n",
      "13\n",
      "21\n",
      "34\n"
     ]
    }
   ],
   "source": [
    "for i in fib(10):\n",
    "    print(i)"
   ]
  },
  {
   "cell_type": "markdown",
   "id": "2def68d1-e0ab-445e-95b5-7da67e4250a0",
   "metadata": {},
   "source": [
    "Q5"
   ]
  },
  {
   "cell_type": "code",
   "execution_count": 14,
   "id": "e114e717-626d-411e-a647-c6c865d641f4",
   "metadata": {},
   "outputs": [
    {
     "name": "stdout",
     "output_type": "stream",
     "text": [
      "2\n",
      "3\n",
      "5\n",
      "7\n",
      "11\n",
      "13\n",
      "17\n",
      "19\n",
      "23\n",
      "29\n",
      "31\n",
      "37\n",
      "41\n",
      "43\n",
      "47\n",
      "53\n",
      "59\n",
      "61\n",
      "67\n",
      "71\n"
     ]
    }
   ],
   "source": [
    "def is_prime(num):\n",
    "    if num <= 1:\n",
    "        return False\n",
    "    for i in range(2, int(num**0.5) + 1):\n",
    "        if num % i == 0:\n",
    "            return False\n",
    "    return True\n",
    "\n",
    "def prime_generator(n):\n",
    "    num = 2\n",
    "    count = 0\n",
    "    while count < 20:\n",
    "        if is_prime(num):\n",
    "            yield num\n",
    "            count += 1\n",
    "        num += 1\n",
    "\n",
    "my_iterator=prime_generator(1000)\n",
    "for _ in range(20):\n",
    "    print(next(my_iterator))\n"
   ]
  },
  {
   "cell_type": "code",
   "execution_count": null,
   "id": "0cf69a06-229d-432a-afef-939e45b9c811",
   "metadata": {},
   "outputs": [],
   "source": []
  }
 ],
 "metadata": {
  "kernelspec": {
   "display_name": "Python 3 (ipykernel)",
   "language": "python",
   "name": "python3"
  },
  "language_info": {
   "codemirror_mode": {
    "name": "ipython",
    "version": 3
   },
   "file_extension": ".py",
   "mimetype": "text/x-python",
   "name": "python",
   "nbconvert_exporter": "python",
   "pygments_lexer": "ipython3",
   "version": "3.10.8"
  }
 },
 "nbformat": 4,
 "nbformat_minor": 5
}
