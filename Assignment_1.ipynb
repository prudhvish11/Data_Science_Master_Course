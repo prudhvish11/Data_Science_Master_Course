{
 "cells": [
  {
   "cell_type": "markdown",
   "id": "1826c627-6743-4e91-9b0f-640bd821c90a",
   "metadata": {},
   "source": [
    "Assignment 1"
   ]
  },
  {
   "cell_type": "code",
   "execution_count": 7,
   "id": "894ffd71-c49d-4fa2-ad3d-af91de62e016",
   "metadata": {},
   "outputs": [],
   "source": [
    "'''\n",
    "Q1.Create one variable containing following type of data:\n",
    "(i) string\n",
    "(ii) list\n",
    "(iii) float\n",
    "(iv) tuple\n",
    "'''\n",
    "a=\"prudhvish\"\n",
    "l=[4,5,6,6,8]\n",
    "f=4.5\n",
    "t=(4,5,6,7)"
   ]
  },
  {
   "cell_type": "code",
   "execution_count": 16,
   "id": "d640e9c4-775c-4672-9b0a-01edda308490",
   "metadata": {},
   "outputs": [
    {
     "name": "stdout",
     "output_type": "stream",
     "text": [
      "data type is <class 'str'>\n",
      "data type is <class 'str'>\n",
      "data type is <class 'list'>\n",
      "data type is <class 'float'>\n"
     ]
    }
   ],
   "source": [
    "'''\n",
    "Q2. Given are some following variables containing data:\n",
    "(i) var1 = ‘ ‘\n",
    "(ii) var2 = ‘[ DS , ML , Python]’\n",
    "(iii) var3 = [ ‘DS’ , ’ML’ , ‘Python’ ]\n",
    "(iv) var4 = 1.\n",
    "What will be the data type of the above given variable.\n",
    "'''\n",
    "var1=' '\n",
    "print('data type is',type(var1))\n",
    "var2 = '[ DS , ML , Python]'\n",
    "print('data type is',type(var2))\n",
    "var3=['DS','ML','Python']\n",
    "print ('data type is',type(var3))\n",
    "var4=1.0 \n",
    "print('data type is',type(var4))"
   ]
  },
  {
   "cell_type": "code",
   "execution_count": 18,
   "id": "3e0abad7-ea35-4c09-9a80-ab72b820cf71",
   "metadata": {},
   "outputs": [
    {
     "name": "stdout",
     "output_type": "stream",
     "text": [
      "3.3333333333333335\n",
      "1\n",
      "3\n",
      "1000\n"
     ]
    }
   ],
   "source": [
    "'''\n",
    "Q3. Explain the use of the following operators using an example:\n",
    "(i) /\n",
    "(ii) %\n",
    "(iii) //\n",
    "(iv) **\n",
    "'''\n",
    "print(10/3) #returns answer \n",
    "print(10%3) #returns remainder\n",
    "print(10//3) #returns  quioent\n",
    "print(10**3)#returns exponential values"
   ]
  },
  {
   "cell_type": "code",
   "execution_count": 24,
   "id": "37a71c0c-cf11-4202-8025-fe4c86d5c804",
   "metadata": {},
   "outputs": [
    {
     "name": "stdout",
     "output_type": "stream",
     "text": [
      "4 : <class 'int'>\n",
      "5 : <class 'int'>\n",
      "6 : <class 'int'>\n",
      "9 : <class 'int'>\n",
      "3 : <class 'int'>\n",
      "dd : <class 'str'>\n",
      "51 : <class 'str'>\n",
      "True : <class 'bool'>\n",
      "9 : <class 'int'>\n",
      "10 : <class 'int'>\n"
     ]
    }
   ],
   "source": [
    "''' \n",
    "Q4. Create a list of length 10 of your choice containing multiple types of data. Using for loop print the\n",
    "element and its data type.\n",
    "'''\n",
    "l=[4,5,6,9,3,\"dd\",\"51\",True,9,10]\n",
    "for i in range (len(l)):\n",
    "    print(l[i],':',type(l[i]))"
   ]
  },
  {
   "cell_type": "code",
   "execution_count": 26,
   "id": "4c39abcf-7ce9-49f4-85dc-426dc2e34548",
   "metadata": {},
   "outputs": [
    {
     "name": "stdin",
     "output_type": "stream",
     "text": [
      " 10\n",
      " 3\n"
     ]
    },
    {
     "name": "stdout",
     "output_type": "stream",
     "text": [
      "No\n"
     ]
    }
   ],
   "source": [
    "'''\n",
    "Q5. Using a while loop, verify if the number A is purely divisible by number B and if so then how many\n",
    "times it can be divisible.\n",
    "'''\n",
    "A=int(input())\n",
    "B=int(input())\n",
    "c=0\n",
    "while(A>=B):\n",
    "    A=A-B\n",
    "    c=c+1\n",
    "if(A==0):\n",
    "    print('Yes A is divisible by B and it divides',c,'times')\n",
    "else:\n",
    "    print(\"No\")"
   ]
  },
  {
   "cell_type": "code",
   "execution_count": 27,
   "id": "1e7d0cbe-c96c-4316-a05b-700c92f750e7",
   "metadata": {},
   "outputs": [
    {
     "name": "stdout",
     "output_type": "stream",
     "text": [
      "7 is not divisible by 3\n",
      "12 is divisible by 3\n",
      "9 is divisible by 3\n",
      "4 is not divisible by 3\n",
      "27 is divisible by 3\n",
      "15 is divisible by 3\n",
      "6 is divisible by 3\n",
      "22 is not divisible by 3\n",
      "18 is divisible by 3\n",
      "30 is divisible by 3\n",
      "8 is not divisible by 3\n",
      "13 is not divisible by 3\n",
      "5 is not divisible by 3\n",
      "21 is divisible by 3\n",
      "36 is divisible by 3\n",
      "17 is not divisible by 3\n",
      "11 is not divisible by 3\n",
      "20 is not divisible by 3\n",
      "14 is not divisible by 3\n",
      "25 is not divisible by 3\n",
      "33 is divisible by 3\n",
      "16 is not divisible by 3\n",
      "10 is not divisible by 3\n",
      "3 is divisible by 3\n",
      "28 is not divisible by 3\n"
     ]
    }
   ],
   "source": [
    "'''\n",
    "Q6. Create a list containing 25 int type data. Using for loop and if-else condition print if the element is\n",
    "divisible by 3 or not.\n",
    "'''\n",
    "\n",
    "int_list = [7, 12, 9, 4, 27, 15, 6, 22, 18, 30, 8, 13, 5, 21, 36, 17, 11, 20, 14, 25, 33, 16, 10, 3, 28]\n",
    "\n",
    "for num in int_list:\n",
    "    if num % 3 == 0:\n",
    "        print(f\"{num} is divisible by 3\")\n",
    "    else:\n",
    "        print(f\"{num} is not divisible by 3\")\n"
   ]
  },
  {
   "cell_type": "code",
   "execution_count": 28,
   "id": "236c9895-38ee-44ff-9e16-88d4dfc4fb22",
   "metadata": {},
   "outputs": [
    {
     "ename": "AttributeError",
     "evalue": "'tuple' object has no attribute 'append'",
     "output_type": "error",
     "traceback": [
      "\u001b[0;31m---------------------------------------------------------------------------\u001b[0m",
      "\u001b[0;31mAttributeError\u001b[0m                            Traceback (most recent call last)",
      "Cell \u001b[0;32mIn[28], line 13\u001b[0m\n\u001b[1;32m     11\u001b[0m \u001b[38;5;66;03m#immutable datatype\u001b[39;00m\n\u001b[1;32m     12\u001b[0m b\u001b[38;5;241m=\u001b[39m(\u001b[38;5;241m4\u001b[39m,\u001b[38;5;241m5\u001b[39m,\u001b[38;5;241m6\u001b[39m,\u001b[38;5;241m8\u001b[39m,\u001b[38;5;241m9\u001b[39m)\n\u001b[0;32m---> 13\u001b[0m \u001b[43mb\u001b[49m\u001b[38;5;241;43m.\u001b[39;49m\u001b[43mappend\u001b[49m(\u001b[38;5;241m5\u001b[39m)\u001b[38;5;66;03m#error will race\u001b[39;00m\n",
      "\u001b[0;31mAttributeError\u001b[0m: 'tuple' object has no attribute 'append'"
     ]
    }
   ],
   "source": [
    "'''\n",
    "Q7. What do you understand about mutable and immutable data types? Give examples for both showing\n",
    "this property.\n",
    "'''\n",
    "#Mutable means we can modify the object(datatype) like append,delete,change index\n",
    "#Immutable means we cant modify the object but we can only create new object and assigne to variable\n",
    "\n",
    "#mutable datatype\n",
    "a=[4,5,6,7,8]\n",
    "a.append(4)\n",
    "#immutable datatype\n",
    "b=(4,5,6,8,9)\n",
    "b.append(5)#error will race"
   ]
  },
  {
   "cell_type": "code",
   "execution_count": null,
   "id": "d8fd5d39-49a1-42e0-bea1-ac1326a6e48d",
   "metadata": {},
   "outputs": [],
   "source": []
  }
 ],
 "metadata": {
  "kernelspec": {
   "display_name": "Python 3 (ipykernel)",
   "language": "python",
   "name": "python3"
  },
  "language_info": {
   "codemirror_mode": {
    "name": "ipython",
    "version": 3
   },
   "file_extension": ".py",
   "mimetype": "text/x-python",
   "name": "python",
   "nbconvert_exporter": "python",
   "pygments_lexer": "ipython3",
   "version": "3.10.8"
  }
 },
 "nbformat": 4,
 "nbformat_minor": 5
}
