{
 "cells": [
  {
   "cell_type": "code",
   "execution_count": 7,
   "id": "3be0e168-86cf-4946-9771-51001d4ac123",
   "metadata": {},
   "outputs": [
    {
     "name": "stdout",
     "output_type": "stream",
     "text": [
      "Q1. Sorted list of tuples based on integer value:\n",
      "[('Virat Kohli', 24936), ('Jack Kallis', 25534), ('Ricky Ponting', 27483), ('Sachin Tendulkar', 34357)]\n"
     ]
    }
   ],
   "source": [
    "# Q1. Sorting list of tuples based on integer value using lambda function\n",
    "data = [('Sachin Tendulkar', 34357), ('Ricky Ponting', 27483), ('Jack Kallis', 25534), ('Virat Kohli', 24936)]\n",
    "sorted_data = sorted(data, key=lambda x: x[1])\n",
    "print(\"Q1. Sorted list of tuples based on integer value:\")\n",
    "print(sorted_data)"
   ]
  },
  {
   "cell_type": "code",
   "execution_count": 8,
   "id": "72286045-3c5b-4381-8662-cba91f1fa2cf",
   "metadata": {},
   "outputs": [
    {
     "name": "stdout",
     "output_type": "stream",
     "text": [
      "\n",
      "Q2. Squares of numbers:\n",
      "[1, 4, 9, 16, 25, 36, 49, 64, 81, 100]\n"
     ]
    }
   ],
   "source": [
    "# Q2. Finding squares of numbers using lambda and map functions\n",
    "numbers = [1, 2, 3, 4, 5, 6, 7, 8, 9, 10]\n",
    "squares = list(map(lambda x: x**2, numbers))\n",
    "print(\"\\nQ2. Squares of numbers:\")\n",
    "print(squares)"
   ]
  },
  {
   "cell_type": "code",
   "execution_count": 9,
   "id": "5bfc5a20-d3ce-4f1c-8e65-49a8efb898a5",
   "metadata": {},
   "outputs": [
    {
     "name": "stdout",
     "output_type": "stream",
     "text": [
      "\n",
      "Q3. Tuple of strings from list of integers:\n",
      "('1', '2', '3', '4', '5', '6', '7', '8', '9', '10')\n"
     ]
    }
   ],
   "source": [
    "# Q3. Converting list of integers into a tuple of strings using map and lambda\n",
    "integers = [1, 2, 3, 4, 5, 6, 7, 8, 9, 10]\n",
    "str_tuple = tuple(map(lambda x: str(x), integers))\n",
    "print(\"\\nQ3. Tuple of strings from list of integers:\")\n",
    "print(str_tuple)"
   ]
  },
  {
   "cell_type": "code",
   "execution_count": 14,
   "id": "021d7f71-e3c3-4065-b3cc-c476f9f58b14",
   "metadata": {},
   "outputs": [
    {
     "name": "stdout",
     "output_type": "stream",
     "text": [
      "\n",
      "Q4. Product of numbers from 1 to 25:\n",
      "15511210043330985984000000\n"
     ]
    }
   ],
   "source": [
    "from functools import reduce\n",
    "numbers = list(range(1, 26))\n",
    "product = reduce(lambda x, y: x * y, numbers)\n",
    "print(\"\\nQ4. Product of numbers from 1 to 25:\")\n",
    "print(product)"
   ]
  },
  {
   "cell_type": "code",
   "execution_count": 11,
   "id": "1c203a3b-5b47-4ac8-aa10-65b3fb52a353",
   "metadata": {},
   "outputs": [
    {
     "name": "stdout",
     "output_type": "stream",
     "text": [
      "\n",
      "Q5. Numbers divisible by 2 and 3:\n",
      "[6, 60, 90, 120]\n"
     ]
    }
   ],
   "source": [
    "# Q5. Filtering numbers divisible by 2 and 3 using filter function\n",
    "numbers = [2, 3, 6, 9, 27, 60, 90, 120, 55, 46]\n",
    "divisible_by_2_and_3 = list(filter(lambda x: x % 2 == 0 and x % 3 == 0, numbers))\n",
    "print(\"\\nQ5. Numbers divisible by 2 and 3:\")\n",
    "print(divisible_by_2_and_3)"
   ]
  },
  {
   "cell_type": "code",
   "execution_count": 12,
   "id": "27260127-1bc9-4a75-8afe-f61fdaf33006",
   "metadata": {},
   "outputs": [
    {
     "name": "stdout",
     "output_type": "stream",
     "text": [
      "\n",
      "Q6. Palindromes in the list of strings:\n",
      "['php', 'aba', 'radar', 'level']\n"
     ]
    }
   ],
   "source": [
    "# Q6. Finding palindromes in the list of strings using lambda and filter\n",
    "strings = ['python', 'php', 'aba', 'radar', 'level']\n",
    "palindromes = list(filter(lambda x: x == x[::-1], strings))\n",
    "print(\"\\nQ6. Palindromes in the list of strings:\")\n",
    "print(palindromes)"
   ]
  },
  {
   "cell_type": "code",
   "execution_count": null,
   "id": "0dcc3e9a-97d9-4162-89ec-6a94eea1dcb1",
   "metadata": {},
   "outputs": [],
   "source": []
  }
 ],
 "metadata": {
  "kernelspec": {
   "display_name": "Python 3 (ipykernel)",
   "language": "python",
   "name": "python3"
  },
  "language_info": {
   "codemirror_mode": {
    "name": "ipython",
    "version": 3
   },
   "file_extension": ".py",
   "mimetype": "text/x-python",
   "name": "python",
   "nbconvert_exporter": "python",
   "pygments_lexer": "ipython3",
   "version": "3.10.8"
  }
 },
 "nbformat": 4,
 "nbformat_minor": 5
}
